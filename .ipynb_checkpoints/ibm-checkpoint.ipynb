{
 "cells": [
  {
   "cell_type": "code",
   "execution_count": 1,
   "metadata": {
    "colab": {},
    "colab_type": "code",
    "id": "Bz6xiD6YMCfP"
   },
   "outputs": [],
   "source": [
    "import pandas as pd\n",
    "import numpy as np\n",
    "import seaborn as sns\n",
    "import matplotlib.pyplot as plt"
   ]
  },
  {
   "cell_type": "code",
   "execution_count": 2,
   "metadata": {
    "colab": {},
    "colab_type": "code",
    "id": "Y7Owr-5nMf7u"
   },
   "outputs": [],
   "source": [
    "train=pd.read_csv('Employee.csv')"
   ]
  },
  {
   "cell_type": "code",
   "execution_count": 3,
   "metadata": {
    "colab": {
     "base_uri": "https://localhost:8080/",
     "height": 650
    },
    "colab_type": "code",
    "executionInfo": {
     "elapsed": 7390,
     "status": "ok",
     "timestamp": 1567597020303,
     "user": {
      "displayName": "Anshuman Tripathi",
      "photoUrl": "",
      "userId": "18173993454011005252"
     },
     "user_tz": -330
    },
    "id": "ioBzGnO6MusB",
    "outputId": "73c6f405-51dd-482d-9030-badbb66fa5cd"
   },
   "outputs": [
    {
     "data": {
      "text/plain": [
       "Age                         0\n",
       "Attrition                   0\n",
       "BusinessTravel              0\n",
       "DailyRate                   0\n",
       "Department                  0\n",
       "DistanceFromHome            0\n",
       "Education                   0\n",
       "EducationField              0\n",
       "EmployeeCount               0\n",
       "EmployeeNumber              0\n",
       "EnvironmentSatisfaction     0\n",
       "Gender                      0\n",
       "HourlyRate                  0\n",
       "JobInvolvement              0\n",
       "JobLevel                    0\n",
       "JobRole                     0\n",
       "JobSatisfaction             0\n",
       "MaritalStatus               0\n",
       "MonthlyIncome               0\n",
       "MonthlyRate                 0\n",
       "NumCompaniesWorked          0\n",
       "Over18                      0\n",
       "OverTime                    0\n",
       "PercentSalaryHike           0\n",
       "PerformanceRating           0\n",
       "RelationshipSatisfaction    0\n",
       "StandardHours               0\n",
       "StockOptionLevel            0\n",
       "TotalWorkingYears           0\n",
       "TrainingTimesLastYear       0\n",
       "WorkLifeBalance             0\n",
       "YearsAtCompany              0\n",
       "YearsInCurrentRole          0\n",
       "YearsSinceLastPromotion     0\n",
       "YearsWithCurrManager        0\n",
       "dtype: int64"
      ]
     },
     "execution_count": 3,
     "metadata": {},
     "output_type": "execute_result"
    }
   ],
   "source": [
    "train.isnull().sum()\n",
    "#there is no null value"
   ]
  },
  {
   "cell_type": "code",
   "execution_count": 4,
   "metadata": {
    "colab": {},
    "colab_type": "code",
    "id": "GSqBaqe2M3K3"
   },
   "outputs": [],
   "source": [
    "#EDA\n",
    "from sklearn.preprocessing import LabelEncoder,OneHotEncoder\n",
    "le=LabelEncoder()\n",
    "train['Attrition']=le.fit_transform(train['Attrition'])"
   ]
  },
  {
   "cell_type": "code",
   "execution_count": 5,
   "metadata": {
    "colab": {
     "base_uri": "https://localhost:8080/",
     "height": 287
    },
    "colab_type": "code",
    "executionInfo": {
     "elapsed": 7252,
     "status": "ok",
     "timestamp": 1567597020304,
     "user": {
      "displayName": "Anshuman Tripathi",
      "photoUrl": "",
      "userId": "18173993454011005252"
     },
     "user_tz": -330
    },
    "id": "4-8sreVfM4GG",
    "outputId": "29668e65-4b6b-4e3a-e723-720d7e6931c3"
   },
   "outputs": [
    {
     "data": {
      "image/png": "[encoded data removed]",
      "text/plain": [
       "<Figure size 432x288 with 1 Axes>"
      ]
     },
     "metadata": {
      "needs_background": "light"
     },
     "output_type": "display_data"
    },
    {
     "data": {
      "text/plain": [
       "911"
      ]
     },
     "execution_count": 5,
     "metadata": {},
     "output_type": "execute_result"
    }
   ],
   "source": [
    "plt.hist(train['Age'])\n",
    "plt.show()\n",
    "import operator\n",
    "operator.and_(train[\"Age\"]>30,train['Age']<50).sum()"
   ]
  },
  {
   "cell_type": "code",
   "execution_count": 6,
   "metadata": {
    "colab": {
     "base_uri": "https://localhost:8080/",
     "height": 442
    },
    "colab_type": "code",
    "executionInfo": {
     "elapsed": 7178,
     "status": "ok",
     "timestamp": 1567597020305,
     "user": {
      "displayName": "Anshuman Tripathi",
      "photoUrl": "",
      "userId": "18173993454011005252"
     },
     "user_tz": -330
    },
    "id": "mowIzmI4M6e_",
    "outputId": "7e8acc9c-76da-4dbf-ba76-d29ef2884581"
   },
   "outputs": [
    {
     "name": "stderr",
     "output_type": "stream",
     "text": [
      "C:\\Users\\admin\\Anaconda3\\lib\\site-packages\\seaborn\\axisgrid.py:230: UserWarning: The `size` paramter has been renamed to `height`; please update your code.\n",
      "  warnings.warn(msg, UserWarning)\n"
     ]
    },
    {
     "data": {
      "text/plain": [
       "286"
      ]
     },
     "execution_count": 6,
     "metadata": {},
     "output_type": "execute_result"
    },
    {
     "data": {
      "image/png": "[encoded data removed]",
      "text/plain": [
       "<Figure size 408.75x360 with 1 Axes>"
      ]
     },
     "metadata": {
      "needs_background": "light"
     },
     "output_type": "display_data"
    }
   ],
   "source": [
    "sns.FacetGrid(train,hue='Attrition',size=5).map(sns.distplot,'Age').add_legend()\n",
    "operator.and_((train['Age']<=30),(train['Attrition']==0)).sum()  "
   ]
  },
  {
   "cell_type": "code",
   "execution_count": 7,
   "metadata": {
    "colab": {
     "base_uri": "https://localhost:8080/",
     "height": 340
    },
    "colab_type": "code",
    "executionInfo": {
     "elapsed": 7081,
     "status": "ok",
     "timestamp": 1567597020305,
     "user": {
      "displayName": "Anshuman Tripathi",
      "photoUrl": "",
      "userId": "18173993454011005252"
     },
     "user_tz": -330
    },
    "id": "DWM9KPmxM9Iu",
    "outputId": "8b75258c-c7f0-49bd-8333-145d3a9b09de"
   },
   "outputs": [
    {
     "data": {
      "text/plain": [
       "(array([1233.,    0.,    0.,    0.,    0.,    0.,    0.,    0.,    0.,\n",
       "         237.]),\n",
       " array([0. , 0.1, 0.2, 0.3, 0.4, 0.5, 0.6, 0.7, 0.8, 0.9, 1. ]),\n",
       " <a list of 10 Patch objects>)"
      ]
     },
     "execution_count": 7,
     "metadata": {},
     "output_type": "execute_result"
    },
    {
     "data": {
      "image/png": "[encoded data removed]",
      "text/plain": [
       "<Figure size 432x288 with 1 Axes>"
      ]
     },
     "metadata": {
      "needs_background": "light"
     },
     "output_type": "display_data"
    }
   ],
   "source": [
    "plt.hist(train['Attrition'])"
   ]
  },
  {
   "cell_type": "code",
   "execution_count": 8,
   "metadata": {
    "colab": {},
    "colab_type": "code",
    "id": "3w8IxOPlNARO"
   },
   "outputs": [],
   "source": [
    "train['BusinessTravel']=le.fit_transform(train['BusinessTravel'])"
   ]
  },
  {
   "cell_type": "code",
   "execution_count": 9,
   "metadata": {
    "colab": {
     "base_uri": "https://localhost:8080/",
     "height": 442
    },
    "colab_type": "code",
    "executionInfo": {
     "elapsed": 9056,
     "status": "ok",
     "timestamp": 1567597022452,
     "user": {
      "displayName": "Anshuman Tripathi",
      "photoUrl": "",
      "userId": "18173993454011005252"
     },
     "user_tz": -330
    },
    "id": "7BV22oTIPmi3",
    "outputId": "181650bb-98a4-42b9-cf6b-a90e80bfeed8"
   },
   "outputs": [
    {
     "name": "stderr",
     "output_type": "stream",
     "text": [
      "C:\\Users\\admin\\Anaconda3\\lib\\site-packages\\seaborn\\axisgrid.py:230: UserWarning: The `size` paramter has been renamed to `height`; please update your code.\n",
      "  warnings.warn(msg, UserWarning)\n"
     ]
    },
    {
     "data": {
      "text/plain": [
       "<seaborn.axisgrid.FacetGrid at 0x17991a05c50>"
      ]
     },
     "execution_count": 9,
     "metadata": {},
     "output_type": "execute_result"
    },
    {
     "data": {
      "image/png": "[encoded data removed]",
      "text/plain": [
       "<Figure size 408.75x360 with 1 Axes>"
      ]
     },
     "metadata": {
      "needs_background": "light"
     },
     "output_type": "display_data"
    }
   ],
   "source": [
    "#sns.barplot(y=train['Attrition'],x=train['BusinessTravel'])\n",
    "sns.FacetGrid(train,hue='Attrition',size=5).map(sns.distplot,'BusinessTravel').add_legend()"
   ]
  },
  {
   "cell_type": "code",
   "execution_count": 10,
   "metadata": {
    "colab": {},
    "colab_type": "code",
    "id": "oy0Ek8WbRCcc"
   },
   "outputs": [],
   "source": [
    "train['Department']=le.fit_transform(train['Department'])"
   ]
  },
  {
   "cell_type": "code",
   "execution_count": 11,
   "metadata": {
    "colab": {
     "base_uri": "https://localhost:8080/",
     "height": 442
    },
    "colab_type": "code",
    "executionInfo": {
     "elapsed": 8940,
     "status": "ok",
     "timestamp": 1567597022454,
     "user": {
      "displayName": "Anshuman Tripathi",
      "photoUrl": "",
      "userId": "18173993454011005252"
     },
     "user_tz": -330
    },
    "id": "63grbGulR9b9",
    "outputId": "fce802dc-bef3-4e71-c64a-788ddee467c9"
   },
   "outputs": [
    {
     "name": "stderr",
     "output_type": "stream",
     "text": [
      "C:\\Users\\admin\\Anaconda3\\lib\\site-packages\\seaborn\\axisgrid.py:230: UserWarning: The `size` paramter has been renamed to `height`; please update your code.\n",
      "  warnings.warn(msg, UserWarning)\n"
     ]
    },
    {
     "data": {
      "text/plain": [
       "<seaborn.axisgrid.FacetGrid at 0x17991a05c88>"
      ]
     },
     "execution_count": 11,
     "metadata": {},
     "output_type": "execute_result"
    },
    {
     "data": {
      "image/png": "[encoded data removed]",
      "text/plain": [
       "<Figure size 408.75x360 with 1 Axes>"
      ]
     },
     "metadata": {
      "needs_background": "light"
     },
     "output_type": "display_data"
    }
   ],
   "source": [
    "sns.FacetGrid(train,hue='Attrition',size=5).map(plt.scatter,'Department','Age').add_legend()"
   ]
  },
  {
   "cell_type": "code",
   "execution_count": null,
   "metadata": {
    "colab": {
     "base_uri": "https://localhost:8080/",
     "height": 442
    },
    "colab_type": "code",
    "executionInfo": {
     "elapsed": 8873,
     "status": "ok",
     "timestamp": 1567597022455,
     "user": {
      "displayName": "Anshuman Tripathi",
      "photoUrl": "",
      "userId": "18173993454011005252"
     },
     "user_tz": -330
    },
    "id": "wIrXkgGDVEa9",
    "outputId": "a0035e73-f7c8-464d-e2fe-ea1a6abd0b61"
   },
   "outputs": [
    {
     "name": "stderr",
     "output_type": "stream",
     "text": [
      "C:\\Users\\admin\\Anaconda3\\lib\\site-packages\\seaborn\\axisgrid.py:230: UserWarning: The `size` paramter has been renamed to `height`; please update your code.\n",
      "  warnings.warn(msg, UserWarning)\n"
     ]
    },
    {
     "data": {
      "text/plain": [
       "<seaborn.axisgrid.FacetGrid at 0x17991b0f630>"
      ]
     },
     "execution_count": 12,
     "metadata": {},
     "output_type": "execute_result"
    },
    {
     "data": {
      "image/png": "[encoded data removed]",
      "text/plain": [
       "<Figure size 408.75x360 with 1 Axes>"
      ]
     },
     "metadata": {
      "needs_background": "light"
     },
     "output_type": "display_data"
    }
   ],
   "source": [
    "sns.FacetGrid(train,hue='Attrition',size=5).map(sns.distplot,'Department').add_legend()"
   ]
  },
  {
   "cell_type": "code",
   "execution_count": null,
   "metadata": {
    "colab": {},
    "colab_type": "code",
    "id": "KXSLP74sWypM"
   },
   "outputs": [],
   "source": [
    "train['EducationField']=le.fit_transform(train['EducationField'])"
   ]
  },
  {
   "cell_type": "code",
   "execution_count": null,
   "metadata": {
    "colab": {
     "base_uri": "https://localhost:8080/",
     "height": 442
    },
    "colab_type": "code",
    "executionInfo": {
     "elapsed": 10354,
     "status": "ok",
     "timestamp": 1567597024059,
     "user": {
      "displayName": "Anshuman Tripathi",
      "photoUrl": "",
      "userId": "18173993454011005252"
     },
     "user_tz": -330
    },
    "id": "Nt7BiktmXbgu",
    "outputId": "da922673-48a6-4695-9222-2cacfd2fede1"
   },
   "outputs": [
    {
     "name": "stderr",
     "output_type": "stream",
     "text": [
      "C:\\Users\\admin\\Anaconda3\\lib\\site-packages\\seaborn\\axisgrid.py:230: UserWarning: The `size` paramter has been renamed to `height`; please update your code.\n",
      "  warnings.warn(msg, UserWarning)\n"
     ]
    },
    {
     "data": {
      "text/plain": [
       "<seaborn.axisgrid.FacetGrid at 0x17991b6ae80>"
      ]
     },
     "execution_count": 14,
     "metadata": {},
     "output_type": "execute_result"
    },
    {
     "data": {
      "image/png": "[encoded data removed]",
      "text/plain": [
       "<Figure size 408.75x360 with 1 Axes>"
      ]
     },
     "metadata": {
      "needs_background": "light"
     },
     "output_type": "display_data"
    }
   ],
   "source": [
    "sns.FacetGrid(train,hue='Attrition',size=5).map(sns.distplot,'EducationField').add_legend()"
   ]
  },
  {
   "cell_type": "code",
   "execution_count": null,
   "metadata": {
    "colab": {},
    "colab_type": "code",
    "id": "zDmgctQxZJ3C"
   },
   "outputs": [],
   "source": [
    "train['Gender']=le.fit_transform(train['Gender'])\n",
    "train['JobRole']=le.fit_transform(train['JobRole'])\n",
    "train['MaritalStatus']=le.fit_transform(train['MaritalStatus'])\n",
    "train['Over18']=le.fit_transform(train['Over18'])\n",
    "train['OverTime']=le.fit_transform(train['OverTime'])"
   ]
  },
  {
   "cell_type": "code",
   "execution_count": null,
   "metadata": {
    "colab": {},
    "colab_type": "code",
    "id": "qjZ0zo95aQkR"
   },
   "outputs": [],
   "source": [
    "(train['Over18']==0).sum()\n",
    "#as all values are Y so we can delete this column\n",
    "train.drop(columns='Over18',inplace=True)"
   ]
  },
  {
   "cell_type": "code",
   "execution_count": null,
   "metadata": {
    "colab": {},
    "colab_type": "code",
    "id": "d4AIqvSHa4Od"
   },
   "outputs": [],
   "source": [
    "(train['StandardHours']!=80).sum()\n",
    "#as there is no other value than 80,so drop this column\n",
    "train.drop(columns=['StandardHours','EmployeeCount'],inplace=True)"
   ]
  },
  {
   "cell_type": "code",
   "execution_count": null,
   "metadata": {
    "colab": {
     "base_uri": "https://localhost:8080/",
     "height": 442
    },
    "colab_type": "code",
    "executionInfo": {
     "elapsed": 9891,
     "status": "ok",
     "timestamp": 1567597024061,
     "user": {
      "displayName": "Anshuman Tripathi",
      "photoUrl": "",
      "userId": "18173993454011005252"
     },
     "user_tz": -330
    },
    "id": "gvtQ_IicbFuf",
    "outputId": "18891f48-b7fb-4d58-d0d2-cd4980289ed4"
   },
   "outputs": [
    {
     "name": "stderr",
     "output_type": "stream",
     "text": [
      "C:\\Users\\admin\\Anaconda3\\lib\\site-packages\\seaborn\\axisgrid.py:230: UserWarning: The `size` paramter has been renamed to `height`; please update your code.\n",
      "  warnings.warn(msg, UserWarning)\n"
     ]
    },
    {
     "data": {
      "text/plain": [
       "<seaborn.axisgrid.FacetGrid at 0x17991c68e10>"
      ]
     },
     "execution_count": 18,
     "metadata": {},
     "output_type": "execute_result"
    },
    {
     "data": {
      "image/png": "[encoded data removed]",
      "text/plain": [
       "<Figure size 408.75x360 with 1 Axes>"
      ]
     },
     "metadata": {
      "needs_background": "light"
     },
     "output_type": "display_data"
    }
   ],
   "source": [
    "sns.FacetGrid(train,hue='Attrition',size=5).map(sns.distplot,'JobSatisfaction').add_legend()\n",
    "#JobSatisfaction 1 'Low' 2 'Medium' 3 'High' 4 'Very High'"
   ]
  },
  {
   "cell_type": "code",
   "execution_count": null,
   "metadata": {
    "colab": {
     "base_uri": "https://localhost:8080/",
     "height": 34
    },
    "colab_type": "code",
    "executionInfo": {
     "elapsed": 9790,
     "status": "ok",
     "timestamp": 1567597024061,
     "user": {
      "displayName": "Anshuman Tripathi",
      "photoUrl": "",
      "userId": "18173993454011005252"
     },
     "user_tz": -330
    },
    "id": "KV-IfVGXbfSm",
    "outputId": "e003a8ca-7294-4064-8cd2-65c49ab688d5"
   },
   "outputs": [
    {
     "data": {
      "text/plain": [
       "66"
      ]
     },
     "execution_count": 19,
     "metadata": {},
     "output_type": "execute_result"
    }
   ],
   "source": [
    "operator.and_(train['Attrition']==1,train[\"JobSatisfaction\"]==1).sum()"
   ]
  },
  {
   "cell_type": "code",
   "execution_count": null,
   "metadata": {
    "colab": {
     "base_uri": "https://localhost:8080/",
     "height": 633
    },
    "colab_type": "code",
    "executionInfo": {
     "elapsed": 9726,
     "status": "ok",
     "timestamp": 1567597024061,
     "user": {
      "displayName": "Anshuman Tripathi",
      "photoUrl": "",
      "userId": "18173993454011005252"
     },
     "user_tz": -330
    },
    "id": "XYibnYcue3Yh",
    "outputId": "4bfe4688-0c59-46ca-e421-7ade3d6de797"
   },
   "outputs": [
    {
     "data": {
      "text/plain": [
       "<matplotlib.axes._subplots.AxesSubplot at 0x1799194c240>"
      ]
     },
     "execution_count": 20,
     "metadata": {},
     "output_type": "execute_result"
    },
    {
     "data": {
      "image/png": "[encoded data removed]",
      "text/plain": [
       "<Figure size 1080x720 with 1 Axes>"
      ]
     },
     "metadata": {
      "needs_background": "light"
     },
     "output_type": "display_data"
    }
   ],
   "source": [
    "index=train.corrwith(train['Attrition']).sort_values(ascending=False).index\n",
    "plt.figure(figsize=(15,10))\n",
    "sns.barplot(x=train.corrwith(train['Attrition']).sort_values(ascending=False),y=index)"
   ]
  },
  {
   "cell_type": "code",
   "execution_count": null,
   "metadata": {
    "colab": {},
    "colab_type": "code",
    "id": "rTkbXDKIqxWw"
   },
   "outputs": [
    {
     "name": "stderr",
     "output_type": "stream",
     "text": [
      "C:\\Users\\admin\\Anaconda3\\lib\\site-packages\\sklearn\\utils\\validation.py:595: DataConversionWarning: Data with input dtype int64 was converted to float64.\n",
      "  warnings.warn(msg, DataConversionWarning)\n"
     ]
    }
   ],
   "source": [
    "from sklearn.preprocessing import StandardScaler,minmax_scale\n",
    "y=train.iloc[:,1].values\n",
    "X=train.drop(columns=['Attrition']).values\n",
    "X=minmax_scale(X)"
   ]
  },
  {
   "cell_type": "code",
   "execution_count": null,
   "metadata": {
    "colab": {},
    "colab_type": "code",
    "id": "bnLfztNtgp5Y"
   },
   "outputs": [],
   "source": [
    "from sklearn.model_selection import train_test_split\n",
    "X_train,X_test,y_train,y_test=train_test_split(X,y,test_size=0.2)"
   ]
  },
  {
   "cell_type": "code",
   "execution_count": null,
   "metadata": {
    "colab": {},
    "colab_type": "code",
    "id": "-oRs90L3-9re"
   },
   "outputs": [],
   "source": [
    "from sklearn.linear_model import LogisticRegression,SGDClassifier\n",
    "import xgboost\n",
    "from sklearn.tree import DecisionTreeClassifier\n",
    "from sklearn.ensemble import RandomForestClassifier,AdaBoostClassifier,GradientBoostingClassifier\n",
    "from sklearn.metrics import confusion_matrix,accuracy_score\n",
    "from sklearn.model_selection import GridSearchCV\n",
    "accuracy={}"
   ]
  },
  {
   "cell_type": "code",
   "execution_count": null,
   "metadata": {
    "colab": {
     "base_uri": "https://localhost:8080/",
     "height": 72
    },
    "colab_type": "code",
    "executionInfo": {
     "elapsed": 9498,
     "status": "ok",
     "timestamp": 1567597024063,
     "user": {
      "displayName": "Anshuman Tripathi",
      "photoUrl": "",
      "userId": "18173993454011005252"
     },
     "user_tz": -330
    },
    "id": "g7itgKRzR8bj",
    "outputId": "319ded29-18ac-4402-8c7a-1afeeea6bcbe"
   },
   "outputs": [
    {
     "name": "stderr",
     "output_type": "stream",
     "text": [
      "C:\\Users\\admin\\Anaconda3\\lib\\site-packages\\sklearn\\linear_model\\logistic.py:433: FutureWarning: Default solver will be changed to 'lbfgs' in 0.22. Specify a solver to silence this warning.\n",
      "  FutureWarning)\n"
     ]
    }
   ],
   "source": [
    "lr=LogisticRegression()\n",
    "lr.fit(X_train,y_train)\n",
    "y_pred=lr.predict(X_test)\n",
    "acc=accuracy_score(y_test,y_pred)\n",
    "con=confusion_matrix(y_test,y_pred)\n",
    "accuracy['logisticRegression']=[acc,con]"
   ]
  },
  {
   "cell_type": "code",
   "execution_count": null,
   "metadata": {
    "colab": {},
    "colab_type": "code",
    "id": "ooPYnIaD3Q6J"
   },
   "outputs": [
    {
     "name": "stderr",
     "output_type": "stream",
     "text": [
      "C:\\Users\\admin\\Anaconda3\\lib\\site-packages\\sklearn\\linear_model\\stochastic_gradient.py:166: FutureWarning: max_iter and tol parameters have been added in SGDClassifier in 0.19. If both are left unset, they default to max_iter=5 and tol=None. If tol is not None, max_iter defaults to max_iter=1000. From 0.21, default max_iter will be 1000, and default tol will be 1e-3.\n",
      "  FutureWarning)\n"
     ]
    }
   ],
   "source": [
    "sgd=SGDClassifier()\n",
    "sgd.fit(X_train,y_train)\n",
    "y_pred=sgd.predict(X_test)\n",
    "acc=accuracy_score(y_test,y_pred)\n",
    "con=confusion_matrix(y_test,y_pred)\n",
    "accuracy['sgdClassifier']=[acc,con]\n"
   ]
  },
  {
   "cell_type": "code",
   "execution_count": null,
   "metadata": {
    "colab": {},
    "colab_type": "code",
    "id": "QvyBR2pc31k5"
   },
   "outputs": [],
   "source": [
    "xgb=xgboost.XGBClassifier(max_depth=3,n_estimators=100)\n",
    "xgb.fit(X_train,y_train)\n",
    "y_pred=xgb.predict(X_test)\n",
    "acc=accuracy_score(y_test,y_pred)\n",
    "con=confusion_matrix(y_test,y_pred)\n",
    "accuracy['xgbclassifier']=[acc,con]"
   ]
  },
  {
   "cell_type": "code",
   "execution_count": null,
   "metadata": {
    "colab": {
     "base_uri": "https://localhost:8080/",
     "height": 72
    },
    "colab_type": "code",
    "executionInfo": {
     "elapsed": 8782,
     "status": "ok",
     "timestamp": 1567597024064,
     "user": {
      "displayName": "Anshuman Tripathi",
      "photoUrl": "",
      "userId": "18173993454011005252"
     },
     "user_tz": -330
    },
    "id": "ZNEfaBhJcMPd",
    "outputId": "528e21a4-fc3d-4fc7-f29f-9c933166e563"
   },
   "outputs": [
    {
     "name": "stderr",
     "output_type": "stream",
     "text": [
      "C:\\Users\\admin\\Anaconda3\\lib\\site-packages\\sklearn\\ensemble\\forest.py:246: FutureWarning: The default value of n_estimators will change from 10 in version 0.20 to 100 in 0.22.\n",
      "  \"10 in version 0.20 to 100 in 0.22.\", FutureWarning)\n"
     ]
    }
   ],
   "source": [
    "randomforestclassifier=RandomForestClassifier()\n",
    "randomforestclassifier.fit(X_train,y_train)\n",
    "y_pred=randomforestclassifier.predict(X_test)\n",
    "acc=accuracy_score(y_test,y_pred)\n",
    "con=confusion_matrix(y_test,y_pred)\n",
    "accuracy['randomforest']=[acc,con]"
   ]
  },
  {
   "cell_type": "code",
   "execution_count": null,
   "metadata": {
    "colab": {},
    "colab_type": "code",
    "id": "9WwRuebdcVS2"
   },
   "outputs": [],
   "source": [
    "adaboost=AdaBoostClassifier()\n",
    "adaboost.fit(X_train,y_train)\n",
    "y_pred=adaboost.predict(X_test)\n",
    "acc=accuracy_score(y_test,y_pred)\n",
    "con=confusion_matrix(y_test,y_pred)\n",
    "accuracy['adaboost']=[acc,con]\n"
   ]
  },
  {
   "cell_type": "code",
   "execution_count": null,
   "metadata": {
    "colab": {},
    "colab_type": "code",
    "id": "WPCF6QDlc3Oi"
   },
   "outputs": [],
   "source": [
    "gradientboosting=GradientBoostingClassifier()\n",
    "gradientboosting.fit(X_train,y_train)\n",
    "y_pred=gradientboosting.predict(X_test)\n",
    "acc=accuracy_score(y_test,y_pred)\n",
    "con=confusion_matrix(y_test,y_pred)\n",
    "accuracy['gradientboosting']=[acc,con]"
   ]
  },
  {
   "cell_type": "code",
   "execution_count": null,
   "metadata": {
    "colab": {
     "base_uri": "https://localhost:8080/",
     "height": 228
    },
    "colab_type": "code",
    "executionInfo": {
     "elapsed": 6117,
     "status": "ok",
     "timestamp": 1567597025705,
     "user": {
      "displayName": "Anshuman Tripathi",
      "photoUrl": "",
      "userId": "18173993454011005252"
     },
     "user_tz": -330
    },
    "id": "MBuYP6YGc4oL",
    "outputId": "695e6c57-8238-4891-aeb3-dd2b2b163bdf"
   },
   "outputs": [
    {
     "data": {
      "text/plain": [
       "{'logisticRegression': [0.8707482993197279, array([[245,   2],\n",
       "         [ 36,  11]], dtype=int64)],\n",
       " 'sgdClassifier': [0.8503401360544217, array([[227,  20],\n",
       "         [ 24,  23]], dtype=int64)],\n",
       " 'xgbclassifier': [0.8843537414965986, array([[245,   2],\n",
       "         [ 32,  15]], dtype=int64)],\n",
       " 'randomforest': [0.8503401360544217, array([[242,   5],\n",
       "         [ 39,   8]], dtype=int64)],\n",
       " 'adaboost': [0.8843537414965986, array([[240,   7],\n",
       "         [ 27,  20]], dtype=int64)],\n",
       " 'gradientboosting': [0.8741496598639455, array([[241,   6],\n",
       "         [ 31,  16]], dtype=int64)]}"
      ]
     },
     "execution_count": 30,
     "metadata": {},
     "output_type": "execute_result"
    }
   ],
   "source": [
    "#accuracy of all model\n",
    "accuracy"
   ]
  },
  {
   "cell_type": "code",
   "execution_count": null,
   "metadata": {
    "colab": {
     "base_uri": "https://localhost:8080/",
     "height": 34
    },
    "colab_type": "code",
    "executionInfo": {
     "elapsed": 760779,
     "status": "ok",
     "timestamp": 1567597781278,
     "user": {
      "displayName": "Anshuman Tripathi",
      "photoUrl": "",
      "userId": "18173993454011005252"
     },
     "user_tz": -330
    },
    "id": "xo10dqxbjzDk",
    "outputId": "47008104-9fcc-46b6-b531-1824811621d1"
   },
   "outputs": [],
   "source": [
    "#adaboost hyperparameter tuning\n",
    "search_grid={'n_estimators':[100,200,300,400,500,600,700,1000,2000],\n",
    "             'learning_rate':[.001,0.01,.1,.5,1]}\n",
    "gsearch=GridSearchCV(estimator=AdaBoostClassifier(),param_grid=search_grid,scoring='accuracy',n_jobs=1,cv=10)\n",
    "gsearch.fit(X_train,y_train)\n",
    "gsearch.best_params_, gsearch.best_score_\n",
    "y_pred=gsearch.predict(X_test)\n",
    "accuracy_score(y_test,y_pred)"
   ]
  },
  {
   "cell_type": "code",
   "execution_count": null,
   "metadata": {
    "colab": {
     "base_uri": "https://localhost:8080/",
     "height": 0
    },
    "colab_type": "code",
    "executionInfo": {
     "elapsed": 5382,
     "status": "error",
     "timestamp": 1567601132143,
     "user": {
      "displayName": "Anshuman Tripathi",
      "photoUrl": "",
      "userId": "18173993454011005252"
     },
     "user_tz": -330
    },
    "id": "SMUdMBZ3uIGN",
    "outputId": "286bccdf-c25b-4314-f827-fc6e2719d22b"
   },
   "outputs": [],
   "source": [
    "#xgboost hyperparameter tuning\n",
    "param_test1 = {\n",
    " 'max_depth':range(3,10,2),\n",
    " 'min_child_weight':range(1,6,2),\n",
    " 'learning_rate':[.001,0.01,.1,.5,1],\n",
    " 'n_estimators':[100,200,300,400,500,600,700,1000,2000]\n",
    "}\n",
    "gsearch1 = GridSearchCV(estimator = xgboost.XGBClassifier( \n",
    " min_child_weight=1, gamma=0, subsample=0.8, colsample_bytree=0.8,\n",
    " objective= 'binary:logistic', nthread=4, scale_pos_weight=1, seed=27), \n",
    " param_grid = param_test1, scoring='accuracy',n_jobs=4,iid=False, cv=5)\n",
    "gsearch1.fit(X_train,y_train)\n",
    "gsearch1.best_params_, gsearch1.best_score_\n",
    "y_pred=gsearch.predict(X_test)\n",
    "accuracy_score(y_test,y_pred)"
   ]
  },
  {
   "cell_type": "code",
   "execution_count": 0,
   "metadata": {
    "colab": {},
    "colab_type": "code",
    "id": "2Uo_eRJEhMGf"
   },
   "outputs": [],
   "source": []
  },
  {
   "cell_type": "code",
   "execution_count": 0,
   "metadata": {
    "colab": {},
    "colab_type": "code",
    "id": "Etpu42ZBihjF"
   },
   "outputs": [],
   "source": []
  },
  {
   "cell_type": "code",
   "execution_count": 0,
   "metadata": {
    "colab": {},
    "colab_type": "code",
    "id": "1uj5qp9DZXTB"
   },
   "outputs": [],
   "source": []
  },
  {
   "cell_type": "code",
   "execution_count": 0,
   "metadata": {
    "colab": {},
    "colab_type": "code",
    "id": "qPamxfNBgj-X"
   },
   "outputs": [],
   "source": []
  }
 ],
 "metadata": {
  "accelerator": "GPU",
  "colab": {
   "collapsed_sections": [],
   "name": "ibm.ipynb",
   "provenance": [],
   "version": "0.3.2"
  },
  "kernelspec": {
   "display_name": "Python 3",
   "language": "python",
   "name": "python3"
  },
  "language_info": {
   "codemirror_mode": {
    "name": "ipython",
    "version": 3
   },
   "file_extension": ".py",
   "mimetype": "text/x-python",
   "name": "python",
   "nbconvert_exporter": "python",
   "pygments_lexer": "ipython3",
   "version": "3.7.3"
  }
 },
 "nbformat": 4,
 "nbformat_minor": 1
}
