{
 "cells": [
  {
   "cell_type": "code",
   "execution_count": null,
   "metadata": {
    "colab": {},
    "colab_type": "code",
    "id": "Bz6xiD6YMCfP"
   },
   "outputs": [],
   "source": [
    "import pandas as pd\n",
    "import numpy as np\n",
    "import seaborn as sns\n",
    "import matplotlib.pyplot as plt"
   ]
  },
  {
   "cell_type": "code",
   "execution_count": null,
   "metadata": {
    "colab": {},
    "colab_type": "code",
    "id": "Y7Owr-5nMf7u"
   },
   "outputs": [],
   "source": [
    "train=pd.read_csv('Employee.csv')"
   ]
  },
  {
   "cell_type": "code",
   "execution_count": null,
   "metadata": {
    "colab": {
     "base_uri": "https://localhost:8080/",
     "height": 650
    },
    "colab_type": "code",
    "executionInfo": {
     "elapsed": 7390,
     "status": "ok",
     "timestamp": 1567597020303,
     "user": {
      "displayName": "Anshuman Tripathi",
      "photoUrl": "",
      "userId": "18173993454011005252"
     },
     "user_tz": -330
    },
    "id": "ioBzGnO6MusB",
    "outputId": "73c6f405-51dd-482d-9030-badbb66fa5cd"
   },
   "outputs": [],
   "source": [
    "train.isnull().sum()\n",
    "#there is no null value"
   ]
  },
  {
   "cell_type": "code",
   "execution_count": null,
   "metadata": {
    "colab": {},
    "colab_type": "code",
    "id": "GSqBaqe2M3K3"
   },
   "outputs": [],
   "source": [
    "#EDA\n",
    "from sklearn.preprocessing import LabelEncoder,OneHotEncoder\n",
    "le=LabelEncoder()\n",
    "train['Attrition']=le.fit_transform(train['Attrition'])"
   ]
  },
  {
   "cell_type": "code",
   "execution_count": null,
   "metadata": {
    "colab": {
     "base_uri": "https://localhost:8080/",
     "height": 287
    },
    "colab_type": "code",
    "executionInfo": {
     "elapsed": 7252,
     "status": "ok",
     "timestamp": 1567597020304,
     "user": {
      "displayName": "Anshuman Tripathi",
      "photoUrl": "",
      "userId": "18173993454011005252"
     },
     "user_tz": -330
    },
    "id": "4-8sreVfM4GG",
    "outputId": "29668e65-4b6b-4e3a-e723-720d7e6931c3"
   },
   "outputs": [],
   "source": [
    "plt.hist(train['Age'])\n",
    "plt.show()\n",
    "import operator\n",
    "operator.and_(train[\"Age\"]>30,train['Age']<50).sum()"
   ]
  },
  {
   "cell_type": "code",
   "execution_count": null,
   "metadata": {
    "colab": {
     "base_uri": "https://localhost:8080/",
     "height": 442
    },
    "colab_type": "code",
    "executionInfo": {
     "elapsed": 7178,
     "status": "ok",
     "timestamp": 1567597020305,
     "user": {
      "displayName": "Anshuman Tripathi",
      "photoUrl": "",
      "userId": "18173993454011005252"
     },
     "user_tz": -330
    },
    "id": "mowIzmI4M6e_",
    "outputId": "7e8acc9c-76da-4dbf-ba76-d29ef2884581"
   },
   "outputs": [],
   "source": [
    "sns.FacetGrid(train,hue='Attrition',size=5).map(sns.distplot,'Age').add_legend()\n",
    "operator.and_((train['Age']<=30),(train['Attrition']==0)).sum()  "
   ]
  },
  {
   "cell_type": "code",
   "execution_count": null,
   "metadata": {
    "colab": {
     "base_uri": "https://localhost:8080/",
     "height": 340
    },
    "colab_type": "code",
    "executionInfo": {
     "elapsed": 7081,
     "status": "ok",
     "timestamp": 1567597020305,
     "user": {
      "displayName": "Anshuman Tripathi",
      "photoUrl": "",
      "userId": "18173993454011005252"
     },
     "user_tz": -330
    },
    "id": "DWM9KPmxM9Iu",
    "outputId": "8b75258c-c7f0-49bd-8333-145d3a9b09de"
   },
   "outputs": [],
   "source": [
    "plt.hist(train['Attrition'])"
   ]
  },
  {
   "cell_type": "code",
   "execution_count": null,
   "metadata": {
    "colab": {},
    "colab_type": "code",
    "id": "3w8IxOPlNARO"
   },
   "outputs": [],
   "source": [
    "train['BusinessTravel']=le.fit_transform(train['BusinessTravel'])"
   ]
  },
  {
   "cell_type": "code",
   "execution_count": null,
   "metadata": {
    "colab": {
     "base_uri": "https://localhost:8080/",
     "height": 442
    },
    "colab_type": "code",
    "executionInfo": {
     "elapsed": 9056,
     "status": "ok",
     "timestamp": 1567597022452,
     "user": {
      "displayName": "Anshuman Tripathi",
      "photoUrl": "",
      "userId": "18173993454011005252"
     },
     "user_tz": -330
    },
    "id": "7BV22oTIPmi3",
    "outputId": "181650bb-98a4-42b9-cf6b-a90e80bfeed8"
   },
   "outputs": [],
   "source": [
    "#sns.barplot(y=train['Attrition'],x=train['BusinessTravel'])\n",
    "sns.FacetGrid(train,hue='Attrition',size=5).map(sns.distplot,'BusinessTravel').add_legend()"
   ]
  },
  {
   "cell_type": "code",
   "execution_count": null,
   "metadata": {
    "colab": {},
    "colab_type": "code",
    "id": "oy0Ek8WbRCcc"
   },
   "outputs": [],
   "source": [
    "train['Department']=le.fit_transform(train['Department'])"
   ]
  },
  {
   "cell_type": "code",
   "execution_count": null,
   "metadata": {
    "colab": {
     "base_uri": "https://localhost:8080/",
     "height": 442
    },
    "colab_type": "code",
    "executionInfo": {
     "elapsed": 8940,
     "status": "ok",
     "timestamp": 1567597022454,
     "user": {
      "displayName": "Anshuman Tripathi",
      "photoUrl": "",
      "userId": "18173993454011005252"
     },
     "user_tz": -330
    },
    "id": "63grbGulR9b9",
    "outputId": "fce802dc-bef3-4e71-c64a-788ddee467c9"
   },
   "outputs": [],
   "source": [
    "sns.FacetGrid(train,hue='Attrition',size=5).map(plt.scatter,'Department','Age').add_legend()"
   ]
  },
  {
   "cell_type": "code",
   "execution_count": null,
   "metadata": {
    "colab": {
     "base_uri": "https://localhost:8080/",
     "height": 442
    },
    "colab_type": "code",
    "executionInfo": {
     "elapsed": 8873,
     "status": "ok",
     "timestamp": 1567597022455,
     "user": {
      "displayName": "Anshuman Tripathi",
      "photoUrl": "",
      "userId": "18173993454011005252"
     },
     "user_tz": -330
    },
    "id": "wIrXkgGDVEa9",
    "outputId": "a0035e73-f7c8-464d-e2fe-ea1a6abd0b61"
   },
   "outputs": [],
   "source": [
    "sns.FacetGrid(train,hue='Attrition',size=5).map(sns.distplot,'Department').add_legend()"
   ]
  },
  {
   "cell_type": "code",
   "execution_count": null,
   "metadata": {
    "colab": {},
    "colab_type": "code",
    "id": "KXSLP74sWypM"
   },
   "outputs": [],
   "source": [
    "train['EducationField']=le.fit_transform(train['EducationField'])"
   ]
  },
  {
   "cell_type": "code",
   "execution_count": null,
   "metadata": {
    "colab": {
     "base_uri": "https://localhost:8080/",
     "height": 442
    },
    "colab_type": "code",
    "executionInfo": {
     "elapsed": 10354,
     "status": "ok",
     "timestamp": 1567597024059,
     "user": {
      "displayName": "Anshuman Tripathi",
      "photoUrl": "",
      "userId": "18173993454011005252"
     },
     "user_tz": -330
    },
    "id": "Nt7BiktmXbgu",
    "outputId": "da922673-48a6-4695-9222-2cacfd2fede1"
   },
   "outputs": [],
   "source": [
    "sns.FacetGrid(train,hue='Attrition',size=5).map(sns.distplot,'EducationField').add_legend()"
   ]
  },
  {
   "cell_type": "code",
   "execution_count": null,
   "metadata": {
    "colab": {},
    "colab_type": "code",
    "id": "zDmgctQxZJ3C"
   },
   "outputs": [],
   "source": [
    "train['Gender']=le.fit_transform(train['Gender'])\n",
    "train['JobRole']=le.fit_transform(train['JobRole'])\n",
    "train['MaritalStatus']=le.fit_transform(train['MaritalStatus'])\n",
    "train['Over18']=le.fit_transform(train['Over18'])\n",
    "train['OverTime']=le.fit_transform(train['OverTime'])"
   ]
  },
  {
   "cell_type": "code",
   "execution_count": null,
   "metadata": {
    "colab": {},
    "colab_type": "code",
    "id": "qjZ0zo95aQkR"
   },
   "outputs": [],
   "source": [
    "(train['Over18']==0).sum()\n",
    "#as all values are Y so we can delete this column\n",
    "train.drop(columns='Over18',inplace=True)"
   ]
  },
  {
   "cell_type": "code",
   "execution_count": null,
   "metadata": {
    "colab": {},
    "colab_type": "code",
    "id": "d4AIqvSHa4Od"
   },
   "outputs": [],
   "source": [
    "(train['StandardHours']!=80).sum()\n",
    "#as there is no other value than 80,so drop this column\n",
    "train.drop(columns=['StandardHours','EmployeeCount'],inplace=True)"
   ]
  },
  {
   "cell_type": "code",
   "execution_count": null,
   "metadata": {
    "colab": {
     "base_uri": "https://localhost:8080/",
     "height": 442
    },
    "colab_type": "code",
    "executionInfo": {
     "elapsed": 9891,
     "status": "ok",
     "timestamp": 1567597024061,
     "user": {
      "displayName": "Anshuman Tripathi",
      "photoUrl": "",
      "userId": "18173993454011005252"
     },
     "user_tz": -330
    },
    "id": "gvtQ_IicbFuf",
    "outputId": "18891f48-b7fb-4d58-d0d2-cd4980289ed4"
   },
   "outputs": [],
   "source": [
    "sns.FacetGrid(train,hue='Attrition',size=5).map(sns.distplot,'JobSatisfaction').add_legend()\n",
    "#JobSatisfaction 1 'Low' 2 'Medium' 3 'High' 4 'Very High'"
   ]
  },
  {
   "cell_type": "code",
   "execution_count": null,
   "metadata": {
    "colab": {
     "base_uri": "https://localhost:8080/",
     "height": 34
    },
    "colab_type": "code",
    "executionInfo": {
     "elapsed": 9790,
     "status": "ok",
     "timestamp": 1567597024061,
     "user": {
      "displayName": "Anshuman Tripathi",
      "photoUrl": "",
      "userId": "18173993454011005252"
     },
     "user_tz": -330
    },
    "id": "KV-IfVGXbfSm",
    "outputId": "e003a8ca-7294-4064-8cd2-65c49ab688d5"
   },
   "outputs": [],
   "source": [
    "operator.and_(train['Attrition']==1,train[\"JobSatisfaction\"]==1).sum()"
   ]
  },
  {
   "cell_type": "code",
   "execution_count": null,
   "metadata": {
    "colab": {
     "base_uri": "https://localhost:8080/",
     "height": 633
    },
    "colab_type": "code",
    "executionInfo": {
     "elapsed": 9726,
     "status": "ok",
     "timestamp": 1567597024061,
     "user": {
      "displayName": "Anshuman Tripathi",
      "photoUrl": "",
      "userId": "18173993454011005252"
     },
     "user_tz": -330
    },
    "id": "XYibnYcue3Yh",
    "outputId": "4bfe4688-0c59-46ca-e421-7ade3d6de797"
   },
   "outputs": [],
   "source": [
    "index=train.corrwith(train['Attrition']).sort_values(ascending=False).index\n",
    "plt.figure(figsize=(15,10))\n",
    "sns.barplot(x=train.corrwith(train['Attrition']).sort_values(ascending=False),y=index)"
   ]
  },
  {
   "cell_type": "code",
   "execution_count": null,
   "metadata": {
    "colab": {},
    "colab_type": "code",
    "id": "rTkbXDKIqxWw"
   },
   "outputs": [],
   "source": [
    "from sklearn.preprocessing import StandardScaler,minmax_scale\n",
    "y=train.iloc[:,1].values\n",
    "X=train.drop(columns=['Attrition']).values\n",
    "X=minmax_scale(X)"
   ]
  },
  {
   "cell_type": "code",
   "execution_count": null,
   "metadata": {
    "colab": {},
    "colab_type": "code",
    "id": "bnLfztNtgp5Y"
   },
   "outputs": [],
   "source": [
    "from sklearn.model_selection import train_test_split\n",
    "X_train,X_test,y_train,y_test=train_test_split(X,y,test_size=0.2)"
   ]
  },
  {
   "cell_type": "code",
   "execution_count": null,
   "metadata": {
    "colab": {},
    "colab_type": "code",
    "id": "-oRs90L3-9re"
   },
   "outputs": [],
   "source": [
    "from sklearn.linear_model import LogisticRegression,SGDClassifier\n",
    "import xgboost\n",
    "from sklearn.tree import DecisionTreeClassifier\n",
    "from sklearn.ensemble import RandomForestClassifier,AdaBoostClassifier,GradientBoostingClassifier\n",
    "from sklearn.metrics import confusion_matrix,accuracy_score\n",
    "from sklearn.model_selection import GridSearchCV\n",
    "accuracy={}"
   ]
  },
  {
   "cell_type": "code",
   "execution_count": null,
   "metadata": {
    "colab": {
     "base_uri": "https://localhost:8080/",
     "height": 72
    },
    "colab_type": "code",
    "executionInfo": {
     "elapsed": 9498,
     "status": "ok",
     "timestamp": 1567597024063,
     "user": {
      "displayName": "Anshuman Tripathi",
      "photoUrl": "",
      "userId": "18173993454011005252"
     },
     "user_tz": -330
    },
    "id": "g7itgKRzR8bj",
    "outputId": "319ded29-18ac-4402-8c7a-1afeeea6bcbe"
   },
   "outputs": [],
   "source": [
    "lr=LogisticRegression()\n",
    "lr.fit(X_train,y_train)\n",
    "y_pred=lr.predict(X_test)\n",
    "acc=accuracy_score(y_test,y_pred)\n",
    "con=confusion_matrix(y_test,y_pred)\n",
    "accuracy['logisticRegression']=[acc,con]"
   ]
  },
  {
   "cell_type": "code",
   "execution_count": null,
   "metadata": {
    "colab": {},
    "colab_type": "code",
    "id": "ooPYnIaD3Q6J"
   },
   "outputs": [],
   "source": [
    "sgd=SGDClassifier()\n",
    "sgd.fit(X_train,y_train)\n",
    "y_pred=sgd.predict(X_test)\n",
    "acc=accuracy_score(y_test,y_pred)\n",
    "con=confusion_matrix(y_test,y_pred)\n",
    "accuracy['sgdClassifier']=[acc,con]\n"
   ]
  },
  {
   "cell_type": "code",
   "execution_count": null,
   "metadata": {
    "colab": {},
    "colab_type": "code",
    "id": "QvyBR2pc31k5"
   },
   "outputs": [],
   "source": [
    "xgb=xgboost.XGBClassifier(max_depth=3,n_estimators=100)\n",
    "xgb.fit(X_train,y_train)\n",
    "y_pred=xgb.predict(X_test)\n",
    "acc=accuracy_score(y_test,y_pred)\n",
    "con=confusion_matrix(y_test,y_pred)\n",
    "accuracy['xgbclassifier']=[acc,con]"
   ]
  },
  {
   "cell_type": "code",
   "execution_count": null,
   "metadata": {
    "colab": {
     "base_uri": "https://localhost:8080/",
     "height": 72
    },
    "colab_type": "code",
    "executionInfo": {
     "elapsed": 8782,
     "status": "ok",
     "timestamp": 1567597024064,
     "user": {
      "displayName": "Anshuman Tripathi",
      "photoUrl": "",
      "userId": "18173993454011005252"
     },
     "user_tz": -330
    },
    "id": "ZNEfaBhJcMPd",
    "outputId": "528e21a4-fc3d-4fc7-f29f-9c933166e563"
   },
   "outputs": [],
   "source": [
    "randomforestclassifier=RandomForestClassifier()\n",
    "randomforestclassifier.fit(X_train,y_train)\n",
    "y_pred=randomforestclassifier.predict(X_test)\n",
    "acc=accuracy_score(y_test,y_pred)\n",
    "con=confusion_matrix(y_test,y_pred)\n",
    "accuracy['randomforest']=[acc,con]"
   ]
  },
  {
   "cell_type": "code",
   "execution_count": null,
   "metadata": {
    "colab": {},
    "colab_type": "code",
    "id": "9WwRuebdcVS2"
   },
   "outputs": [],
   "source": [
    "adaboost=AdaBoostClassifier()\n",
    "adaboost.fit(X_train,y_train)\n",
    "y_pred=adaboost.predict(X_test)\n",
    "acc=accuracy_score(y_test,y_pred)\n",
    "con=confusion_matrix(y_test,y_pred)\n",
    "accuracy['adaboost']=[acc,con]\n"
   ]
  },
  {
   "cell_type": "code",
   "execution_count": null,
   "metadata": {
    "colab": {},
    "colab_type": "code",
    "id": "WPCF6QDlc3Oi"
   },
   "outputs": [],
   "source": [
    "gradientboosting=GradientBoostingClassifier()\n",
    "gradientboosting.fit(X_train,y_train)\n",
    "y_pred=gradientboosting.predict(X_test)\n",
    "acc=accuracy_score(y_test,y_pred)\n",
    "con=confusion_matrix(y_test,y_pred)\n",
    "accuracy['gradientboosting']=[acc,con]"
   ]
  },
  {
   "cell_type": "code",
   "execution_count": null,
   "metadata": {
    "colab": {
     "base_uri": "https://localhost:8080/",
     "height": 228
    },
    "colab_type": "code",
    "executionInfo": {
     "elapsed": 6117,
     "status": "ok",
     "timestamp": 1567597025705,
     "user": {
      "displayName": "Anshuman Tripathi",
      "photoUrl": "",
      "userId": "18173993454011005252"
     },
     "user_tz": -330
    },
    "id": "MBuYP6YGc4oL",
    "outputId": "695e6c57-8238-4891-aeb3-dd2b2b163bdf"
   },
   "outputs": [],
   "source": [
    "#accuracy of all model\n",
    "accuracy"
   ]
  },
  {
   "cell_type": "code",
   "execution_count": null,
   "metadata": {
    "colab": {
     "base_uri": "https://localhost:8080/",
     "height": 34
    },
    "colab_type": "code",
    "executionInfo": {
     "elapsed": 760779,
     "status": "ok",
     "timestamp": 1567597781278,
     "user": {
      "displayName": "Anshuman Tripathi",
      "photoUrl": "",
      "userId": "18173993454011005252"
     },
     "user_tz": -330
    },
    "id": "xo10dqxbjzDk",
    "outputId": "47008104-9fcc-46b6-b531-1824811621d1"
   },
   "outputs": [],
   "source": [
    "#adaboost hyperparameter tuning\n",
    "search_grid={'n_estimators':[100,200,300,400,500,600,700,1000,2000],\n",
    "             'learning_rate':[.001,0.01,.1,.5,1]}\n",
    "gsearch=GridSearchCV(estimator=AdaBoostClassifier(),param_grid=search_grid,scoring='accuracy',n_jobs=1,cv=10)\n",
    "gsearch.fit(X_train,y_train)\n",
    "gsearch.best_params_, gsearch.best_score_\n",
    "y_pred=gsearch.predict(X_test)\n",
    "accuracy_score(y_test,y_pred)"
   ]
  },
  {
   "cell_type": "code",
   "execution_count": null,
   "metadata": {
    "colab": {
     "base_uri": "https://localhost:8080/",
     "height": 0
    },
    "colab_type": "code",
    "executionInfo": {
     "elapsed": 5382,
     "status": "error",
     "timestamp": 1567601132143,
     "user": {
      "displayName": "Anshuman Tripathi",
      "photoUrl": "",
      "userId": "18173993454011005252"
     },
     "user_tz": -330
    },
    "id": "SMUdMBZ3uIGN",
    "outputId": "286bccdf-c25b-4314-f827-fc6e2719d22b"
   },
   "outputs": [],
   "source": [
    "#xgboost hyperparameter tuning\n",
    "param_test1 = {\n",
    " 'max_depth':range(3,10,2),\n",
    " 'min_child_weight':range(1,6,2),\n",
    " 'learning_rate':[.001,0.01,.1,1],\n",
    " 'n_estimators':[100,200,300,400,500,600,700,1000,2000]\n",
    "}\n",
    "gsearch1 = GridSearchCV(estimator = xgboost.XGBClassifier( \n",
    " min_child_weight=1, gamma=0, subsample=0.8, colsample_bytree=0.8,\n",
    " objective= 'binary:logistic', nthread=4, scale_pos_weight=1, seed=27), \n",
    " param_grid = param_test1, scoring='accuracy',n_jobs=4,iid=False, cv=5)\n",
    "gsearch1.fit(X_train,y_train)\n",
    "gsearch1.best_params_, gsearch1.best_score_\n",
    "y_pred=gsearch1.predict(X_test)\n",
    "accuracy_score(y_test,y_pred)"
   ]
  },
  {
   "cell_type": "code",
   "execution_count": null,
   "metadata": {
    "colab": {},
    "colab_type": "code",
    "id": "2Uo_eRJEhMGf"
   },
   "outputs": [],
   "source": [
    "import statsmodels.api as sm"
   ]
  },
  {
   "cell_type": "code",
   "execution_count": null,
   "metadata": {
    "colab": {},
    "colab_type": "code",
    "id": "Etpu42ZBihjF"
   },
   "outputs": [],
   "source": [
    "x=np.append(arr=np.zeros((X.shape[0],1)).astype(int),values=X,axis=1)\n",
    "var=np.arange(0,X.shape[1])"
   ]
  },
  {
   "cell_type": "code",
   "execution_count": null,
   "metadata": {
    "colab": {},
    "colab_type": "code",
    "id": "1uj5qp9DZXTB"
   },
   "outputs": [],
   "source": [
    "x_opt=x[:,var]"
   ]
  },
  {
   "cell_type": "code",
   "execution_count": null,
   "metadata": {
    "colab": {},
    "colab_type": "code",
    "id": "qPamxfNBgj-X"
   },
   "outputs": [],
   "source": [
    "ols=sm.OLS(endog=y,exog=x_opt).fit()\n",
    "ols.summary()"
   ]
  },
  {
   "cell_type": "code",
   "execution_count": null,
   "metadata": {},
   "outputs": [],
   "source": [
    "var=np.delete(var,24)\n",
    "x_opt=x[:,var]\n",
    "ols=sm.OLS(endog=y,exog=x_opt).fit()\n",
    "ols.summary()"
   ]
  },
  {
   "cell_type": "code",
   "execution_count": null,
   "metadata": {},
   "outputs": [],
   "source": [
    "var=np.delete(var,25)\n",
    "x_opt=x[:,var]\n",
    "ols=sm.OLS(endog=y,exog=x_opt).fit()\n",
    "ols.summary()"
   ]
  },
  {
   "cell_type": "code",
   "execution_count": null,
   "metadata": {},
   "outputs": [],
   "source": [
    "var=np.delete(var,3)\n",
    "x_opt=x[:,var]\n",
    "ols=sm.OLS(endog=y,exog=x_opt).fit()\n",
    "ols.summary()"
   ]
  },
  {
   "cell_type": "code",
   "execution_count": null,
   "metadata": {
    "scrolled": true
   },
   "outputs": [],
   "source": [
    "var=np.delete(var,13)\n",
    "x_opt=x[:,var]\n",
    "ols=sm.OLS(endog=y,exog=x_opt).fit()\n",
    "ols.summary()"
   ]
  },
  {
   "cell_type": "code",
   "execution_count": null,
   "metadata": {
    "scrolled": true
   },
   "outputs": [],
   "source": [
    "var=np.delete(var,19)\n",
    "x_opt=x[:,var]\n",
    "ols=sm.OLS(endog=y,exog=x_opt).fit()\n",
    "ols.summary()"
   ]
  },
  {
   "cell_type": "code",
   "execution_count": null,
   "metadata": {
    "scrolled": false
   },
   "outputs": [],
   "source": [
    "var=np.delete(var,19)\n",
    "x_opt=x[:,var]\n",
    "ols=sm.OLS(endog=y,exog=x_opt).fit()\n",
    "ols.summary()"
   ]
  },
  {
   "cell_type": "code",
   "execution_count": null,
   "metadata": {
    "scrolled": false
   },
   "outputs": [],
   "source": [
    "var=np.delete(var,7)\n",
    "x_opt=x[:,var]\n",
    "ols=sm.OLS(endog=y,exog=x_opt).fit()\n",
    "ols.summary()"
   ]
  },
  {
   "cell_type": "code",
   "execution_count": null,
   "metadata": {
    "scrolled": true
   },
   "outputs": [],
   "source": [
    "from sklearn.model_selection import train_test_split\n",
    "X_train,X_test,y_train,y_test=train_test_split(x_opt,y,test_size=0.2)"
   ]
  },
  {
   "cell_type": "code",
   "execution_count": null,
   "metadata": {},
   "outputs": [],
   "source": [
    "gsearch.best_params_"
   ]
  },
  {
   "cell_type": "code",
   "execution_count": null,
   "metadata": {},
   "outputs": [],
   "source": [
    "gsearch1.best_params_"
   ]
  },
  {
   "cell_type": "code",
   "execution_count": null,
   "metadata": {},
   "outputs": [],
   "source": [
    "xgb=xgboost.XGBClassifier(learning_rate=0.01,\n",
    " max_depth= 9,\n",
    " min_child_weight= 5,\n",
    " n_estimators= 2000)\n",
    "xgb.fit(X_train,y_train)\n",
    "y_pred=xgb.predict(X_test)\n",
    "accuracy_score(y_test,y_pred)"
   ]
  },
  {
   "cell_type": "code",
   "execution_count": null,
   "metadata": {},
   "outputs": [],
   "source": [
    "adaboost=AdaBoostClassifier(learning_rate= 0.1, n_estimators= 700)\n",
    "adaboost.fit(X_train,y_train)\n",
    "y_pred=adaboost.predict(X_test)\n",
    "accuracy_score(y_test,y_pred)"
   ]
  },
  {
   "cell_type": "code",
   "execution_count": null,
   "metadata": {},
   "outputs": [],
   "source": [
    "lr=LogisticRegression(tol=0.01,C=10)\n",
    "lr.fit(X_train,y_train)\n",
    "y_pred=lr.predict(X_test)\n",
    "accuracy_score(y_test,y_pred)"
   ]
  }
 ],
 "metadata": {
  "accelerator": "GPU",
  "colab": {
   "collapsed_sections": [],
   "name": "ibm.ipynb",
   "provenance": [],
   "version": "0.3.2"
  },
  "kernelspec": {
   "display_name": "Python 3",
   "language": "python",
   "name": "python3"
  },
  "language_info": {
   "codemirror_mode": {
    "name": "ipython",
    "version": 3
   },
   "file_extension": ".py",
   "mimetype": "text/x-python",
   "name": "python",
   "nbconvert_exporter": "python",
   "pygments_lexer": "ipython3",
   "version": "3.7.3"
  }
 },
 "nbformat": 4,
 "nbformat_minor": 1
}
